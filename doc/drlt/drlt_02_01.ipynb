{
 "cells": [
  {
   "cell_type": "markdown",
   "id": "6b2c401f",
   "metadata": {},
   "source": [
    "# 第 5 章 交易环境\n",
    "\n",
    "在这一章中，我们将研究怎样搭建量化交易的强化学习环境。\n",
    "\n",
    "## 读入数据\n",
    "我们首先从CSV文件中读入数据：\n",
    "\n",
    "```\n",
    "stodk_data: {'data\\\\YNDX_160101_161231.csv': BarPrices(open=array([1156.9, 1150.6, 1150.2, ..., 1245.5, 1246. , 1244. ], dtype=float32), high=array([0.00086438, 0.        , 0.        , ..., 0.        , 0.        ,\n",
    "       0.00361736], dtype=float32), low=array([-0.0033711 , -0.00017378, -0.00060855, ..., -0.00080289,\n",
    "       -0.00160514, -0.00040193], dtype=float32), close=array([-0.0033711 , -0.00017378, -0.00043471, ..., -0.00080289,\n",
    "       -0.00080257,  0.00361736], dtype=float32), volume=array([ 43.,   5., 165., ..., 200., 231., 191.], dtype=float32))};\n",
    "```\n",
    "如上所示，stock_data为一个字典，BarPrices是Python3的collections.namedtuple，属性为：open,、high,、low,、close,、volume，其值均为np.ndarray。"
   ]
  },
  {
   "cell_type": "code",
   "execution_count": null,
   "id": "50ceced2",
   "metadata": {},
   "outputs": [],
   "source": []
  }
 ],
 "metadata": {
  "kernelspec": {
   "display_name": "Python 3",
   "language": "python",
   "name": "python3"
  },
  "language_info": {
   "codemirror_mode": {
    "name": "ipython",
    "version": 3
   },
   "file_extension": ".py",
   "mimetype": "text/x-python",
   "name": "python",
   "nbconvert_exporter": "python",
   "pygments_lexer": "ipython3",
   "version": "3.8.5"
  }
 },
 "nbformat": 4,
 "nbformat_minor": 5
}
