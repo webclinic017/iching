{
 "cells": [
  {
   "cell_type": "markdown",
   "id": "ae664282",
   "metadata": {},
   "source": [
    "# 第 5 章 交易环境\n",
    "\n",
    "在这一章中，我们将研究怎样搭建量化交易的强化学习环境。"
   ]
  }
 ],
 "metadata": {
  "kernelspec": {
   "display_name": "Python 3",
   "language": "python",
   "name": "python3"
  }
 },
 "nbformat": 4,
 "nbformat_minor": 5
}
