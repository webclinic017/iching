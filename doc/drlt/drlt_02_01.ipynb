{
 "cells": [
  {
   "cell_type": "markdown",
   "id": "6b2c401f",
   "metadata": {},
   "source": [
    "# 第 5 章 交易环境\n",
    "\n",
    "在这一章中，我们将研究怎样搭建量化交易的强化学习环境。"
   ]
  },
  {
   "cell_type": "code",
   "execution_count": null,
   "id": "50ceced2",
   "metadata": {},
   "outputs": [],
   "source": []
  }
 ],
 "metadata": {
  "kernelspec": {
   "display_name": "Python 3",
   "language": "python",
   "name": "python3"
  }
 },
 "nbformat": 4,
 "nbformat_minor": 5
}
