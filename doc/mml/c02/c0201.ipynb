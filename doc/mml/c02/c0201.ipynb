{
 "cells": [
  {
   "cell_type": "markdown",
   "id": "df6dfe73",
   "metadata": {},
   "source": [
    "# t1\n",
    "\n",
    "$$\n",
    "E = m C^{2}\n",
    "$$"
   ]
  },
  {
   "cell_type": "code",
   "execution_count": null,
   "id": "e87ce032",
   "metadata": {},
   "outputs": [],
   "source": []
  }
 ],
 "metadata": {
  "kernelspec": {
   "display_name": "Python 3",
   "language": "python",
   "name": "python3"
  }
 },
 "nbformat": 4,
 "nbformat_minor": 5
}
