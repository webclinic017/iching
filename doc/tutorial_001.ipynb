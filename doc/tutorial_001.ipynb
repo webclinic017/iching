{
 "cells": [
  {
   "cell_type": "markdown",
   "id": "smooth-vault",
   "metadata": {},
   "source": [
    "# 示例\n",
    "我们首先创建交易对象：\n",
    "```bash\n",
    "pip install -i https://pypi.tuna.tsinghua.edu.cn/simple ray[default]\n",
    "pip install -i https://pypi.tuna.tsinghua.edu.cn/simple dm-tree\n",
    "pip install -i https://pypi.tuna.tsinghua.edu.cn/simple opencv-python\n",
    "pip install -i https://pypi.tuna.tsinghua.edu.cn/simple lz4\n",
    "```"
   ]
  }
 ],
 "metadata": {
  "kernelspec": {
   "display_name": "Python 3",
   "language": "python",
   "name": "python3"
  },
  "language_info": {
   "codemirror_mode": {
    "name": "ipython",
    "version": 3
   },
   "file_extension": ".py",
   "mimetype": "text/x-python",
   "name": "python",
   "nbconvert_exporter": "python",
   "pygments_lexer": "ipython3",
   "version": "3.8.5"
  }
 },
 "nbformat": 4,
 "nbformat_minor": 5
}
