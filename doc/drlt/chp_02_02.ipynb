{
 "cells": [
  {
   "cell_type": "markdown",
   "id": "sharp-medicaid",
   "metadata": {},
   "source": [
    "# 第 5 章 \n",
    "## 第 2 节 市场环境\n",
    "在上一节中，我们看了市场中最重要的State类，分钟线市场环境类MinuteBarEnv只是在其基础上进行了封装。\n",
    "### 5.2.1. 市场环境构造函数\n",
    "我们先来看其构造函数："
   ]
  },
  {
   "cell_type": "code",
   "execution_count": null,
   "id": "attempted-discount",
   "metadata": {},
   "outputs": [],
   "source": [
    "class MinuteBarEnv(gym.Env):\n",
    "    metadata = {'render.modes': ['human']}\n",
    "    spec = EnvSpec(\"StocksEnv-v0\")\n",
    "\n",
    "    def __init__(self, prices, bars_count=AppConfig.DEFAULT_BARS_COUNT,\n",
    "                 commission=AppConfig.DEFAULT_COMMISSION_PERC,\n",
    "                 reset_on_close=True, state_1d=False,\n",
    "                 random_ofs_on_reset=True, reward_on_close=False,\n",
    "                 volumes=False):\n",
    "        assert isinstance(prices, dict)\n",
    "        self._prices = prices\n",
    "        if state_1d:\n",
    "            self._state = State1D(\n",
    "                bars_count, commission, reset_on_close,\n",
    "                reward_on_close=reward_on_close, volumes=volumes)\n",
    "        else:\n",
    "            self._state = State(\n",
    "                bars_count, commission, reset_on_close,\n",
    "                reward_on_close=reward_on_close, volumes=volumes)\n",
    "        self.action_space = gym.spaces.Discrete(n=len(AssetActions))\n",
    "        self.observation_space = gym.spaces.Box(\n",
    "            low=-np.inf, high=np.inf,\n",
    "            shape=self._state.shape, dtype=np.float32)\n",
    "        self.random_ofs_on_reset = random_ofs_on_reset\n",
    "        self.seed()\n",
    "        \n",
    "    def test_MinuteBarEnv_main(self):\n",
    "        '''\n",
    "        研究市场环境类\n",
    "        '''\n",
    "        year = 2016\n",
    "        instrument = 'data\\\\YNDX_160101_161231.csv'\n",
    "        stock_data = BarData.load_year_data(year)\n",
    "        print('stock_data: {0};'.format(stock_data[instrument]))\n",
    "        env = MinuteBarEnv(\n",
    "                stock_data, bars_count=AppConfig.BARS_COUNT, volumes=True)\n",
    "        print('action_sapce = {0};'.format(env.action_space))\n",
    "        print('shape: {0};'.format(env._state.shape))"
   ]
  },
  {
   "cell_type": "markdown",
   "id": "tamil-apartment",
   "metadata": {},
   "source": [
    "代码解读如下所示：\n",
    "* 第11行：self._prices的格式为：\n",
    "```\n",
    "stock_data: BarPrices(open=array([1156.9, 1150.6, 1150.2, ..., 1245.5, 1246. , 1244. ], dtype=float32), high=array([0.00086438, 0.        , 0.        , ..., 0.        , 0.        ,\n",
    "       0.00361736], dtype=float32), low=array([-0.0033711 , -0.00017378, -0.00060855, ..., -0.00080289,\n",
    "       -0.00160514, -0.00040193], dtype=float32), close=array([-0.0033711 , -0.00017378, -0.00043471, ..., -0.00080289,\n",
    "       -0.00080257,  0.00361736], dtype=float32), volume=array([ 43.,   5., 165., ..., 200., 231., 191.], dtype=float32));\n",
    "```\n",
    "* 第12$\\sim$19行：生成第1节中的状态对象；\n",
    "* 行动空间为0、1、2三个，因为AssetActions为枚举类型：Keep、Buy、Sell；\n",
    "* 观察状态为42维数组；\n",
    "* 每次重置系统，开始点为随机的，这样可以增加样本数，增高网络泛化能力；"
   ]
  },
  {
   "cell_type": "markdown",
   "id": "gothic-persian",
   "metadata": {},
   "source": [
    "### 5.2.2. 市场环境重置\n",
    "市场环境类MinutBarEnv类的reset函数为："
   ]
  },
  {
   "cell_type": "code",
   "execution_count": null,
   "id": "varying-explosion",
   "metadata": {},
   "outputs": [],
   "source": []
  }
 ],
 "metadata": {
  "kernelspec": {
   "display_name": "Python 3",
   "language": "python",
   "name": "python3"
  },
  "language_info": {
   "codemirror_mode": {
    "name": "ipython",
    "version": 3
   },
   "file_extension": ".py",
   "mimetype": "text/x-python",
   "name": "python",
   "nbconvert_exporter": "python",
   "pygments_lexer": "ipython3",
   "version": "3.8.5"
  }
 },
 "nbformat": 4,
 "nbformat_minor": 5
}
