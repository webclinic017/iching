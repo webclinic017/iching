{
 "cells": [
  {
   "cell_type": "markdown",
   "id": "6de40d93",
   "metadata": {},
   "source": [
    "# 2.7.2 基变换\n",
    "\n",
    "在这一节中，我们将讨论在空间$V$和$W$上基变换问题。我们假设在空间$V$上有两个基，分别为$B$和$\\tilde{B}$。在空间$W$中有两个基，分别为$C$和$\\tilde{C}$，我们设基$B$到基$C$之间的变换矩阵为$A_{\\Phi}$，基$\\tilde{B}$和基$\\tilde{C}$之间的变换矩阵为$\\tilde{A}_{\\Phi}$，我们要讨论$A_{\\Phi}$和$\\tilde{A_{\\Phi}}$之间的关系。由于理论的上的讨论在教材中都有，我们这里仅以三维空间$V$和四维空间$W$为例，使我们能有一个直观的认识。\n",
    "## 初始定义\n",
    "\n",
    "### 三维空间$V$\n",
    "我们定义基$B$为：\n",
    "$$\n",
    "B=\\begin{bmatrix}\n",
    "\\boldsymbol{b}_1 & \\boldsymbol{b}_2 & \\boldsymbol{b}_3\n",
    "\\end{bmatrix}\n",
    "=\\begin{bmatrix}\n",
    "1.0 & 0.0 & 0.0 \\\\\n",
    "0.0 & 1.0 & 0.0 \\\\\n",
    "0.0 & 0.0 & 1.0\n",
    "\\end{bmatrix}\n",
    "$$\n",
    "我们定义基$\\tilde{B}$为：\n",
    "$$\n",
    "\\tilde{B}=\\begin{bmatrix}\n",
    "\\tilde{\\boldsymbol{b}}_1 & \\tilde{\\boldsymbol{b}}_2 & \\tilde{\\boldsymbol{b}}_3\n",
    "\\end{bmatrix}\n",
    "=\\begin{bmatrix}\n",
    "0.5 & 1.8 & -2.2 \\\\\n",
    "0.8 & 0.3 & -1.3 \\\\\n",
    "0.4 & 0.3 & 3.5\n",
    "\\end{bmatrix}\n",
    "$$\n",
    "\n",
    "### 四维空间$W$\n",
    "我们定义基$C$为：\n",
    "$$\n",
    "C = \\begin{bmatrix}\n",
    "\\boldsymbol{c}_1 & \\boldsymbol{c}_2 & \\boldsymbol{c}_3 & \\boldsymbol{c}_4\n",
    "\\end{bmatrix}\n",
    "=\\begin{bmatrix}\n",
    "1.0 & 0.0 & 0.0 & 0.0 \\\\\n",
    "0.0 & 1.0 & 0.0 & 0.0 \\\\\n",
    "0.0 & 0.0 & 1.0 & 0.0 \\\\\n",
    "0.0 & 0.0 & 0.0 & 1.0\n",
    "\\end{bmatrix}\n",
    "$$"
   ]
  },
  {
   "cell_type": "code",
   "execution_count": null,
   "id": "c329efd5",
   "metadata": {},
   "outputs": [],
   "source": []
  }
 ],
 "metadata": {
  "kernelspec": {
   "display_name": "Python 3",
   "language": "python",
   "name": "python3"
  }
 },
 "nbformat": 4,
 "nbformat_minor": 5
}
