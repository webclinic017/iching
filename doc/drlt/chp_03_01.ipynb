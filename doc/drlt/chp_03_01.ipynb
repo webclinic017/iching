{
 "cells": [
  {
   "cell_type": "markdown",
   "id": "familiar-tournament",
   "metadata": {},
   "source": [
    "# 元学习\n",
    "我们找到$N$个任务，如在股票应用中，我们根据相关性，找出5支正相关和5支负相关的股票，共有$N=10$个任务。\n",
    "## MAML算法\n",
    "我们在这里只讲述最基本的MAML算法。\n",
    "1. 确定一个训练任务的产生环境，即：$\\mathcal{T} \\sim p(\\mathcal{T})$；\n",
    "2. 确定内层循环学习率$\\alpha$和外层循环学习率$\\beta$；\n",
    "3. 创建$N$个相同的神经网络，随机生成网络参数$\\boldsymbol{\\theta}$，并将其赋给每个神经网络；\n",
    "3. 执行epochs步下述循环：\n",
    "  1. 生成$N$个不同的任务：$\\mathcal{T}_{1}, \\mathcal{T}_{2}, ..., \\mathcal{T}_{N}$；\n",
    "  2. 循环处理每个任务$\\mathcal{T}_{i}, \\quad i \\in \\{1, 2, ..., N\\}$：\n",
    "    1. 我们假设每个任务$\\mathcal{T}_{i}$有$K$个样本，执行典型的神经网络训练算法：\n",
    "        ```\n",
    "        inputs, labels = T_i\n",
    "        # zero the parameter gradients\n",
    "        optimizer.zero_grad()\n",
    "        # forward + backward + optimize\n",
    "        outputs = net(inputs)\n",
    "        loss = criterion(outputs, labels)\n",
    "        loss.backward() # get the gradient\n",
    "        optimizer.step() # 更新参数\n",
    "        ```\n",
    "        \n",
    "    2."
   ]
  },
  {
   "cell_type": "code",
   "execution_count": null,
   "id": "norwegian-vanilla",
   "metadata": {},
   "outputs": [],
   "source": []
  }
 ],
 "metadata": {
  "kernelspec": {
   "display_name": "Python 3",
   "language": "python",
   "name": "python3"
  },
  "language_info": {
   "codemirror_mode": {
    "name": "ipython",
    "version": 3
   },
   "file_extension": ".py",
   "mimetype": "text/x-python",
   "name": "python",
   "nbconvert_exporter": "python",
   "pygments_lexer": "ipython3",
   "version": "3.8.5"
  }
 },
 "nbformat": 4,
 "nbformat_minor": 5
}
