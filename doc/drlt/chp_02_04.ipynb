{
 "cells": [
  {
   "cell_type": "markdown",
   "id": "bibliographic-anime",
   "metadata": {},
   "source": [
    "# A3C算法\n",
    "A3C算法是A2C（Advantage Actor-Critic）算法的分布式版本，其由一个中心节点来负责汇总执行梯度下降算法，由多个工作节点并行的计算梯度。\n",
    "\n",
    "## 网络模型\n",
    "我们首先来看网络模型，其由两部分组成：策略网络作为Actor，值函数网络作为Critic。\n",
    "我们首先来看网络模型定义："
   ]
  },
  {
   "cell_type": "code",
   "execution_count": null,
   "id": "variable-special",
   "metadata": {},
   "outputs": [],
   "source": [
    "# \n",
    "class A2cConv1dModel(nn.Module):\n",
    "    def __init__(self, input_shape, n_actions):\n",
    "        super(A2cConv1dModel, self).__init__()\n",
    "        self.conv = nn.Sequential(\n",
    "            nn.Conv1d(input_shape[0], 32, kernel_size=3, stride=1),\n",
    "            nn.ReLU(),\n",
    "            nn.Conv1d(32, 64, kernel_size=3, stride=1),\n",
    "            nn.ReLU(),\n",
    "            nn.Conv1d(64, 64, kernel_size=3, stride=1),\n",
    "            nn.ReLU()\n",
    "        )\n",
    "        conv_out_size = self._get_conv_out(input_shape)\n",
    "        # 策略网络定义\n",
    "        self.policy = nn.Sequential(\n",
    "            nn.Linear(conv_out_size, 512),\n",
    "            nn.ReLU(),\n",
    "            nn.Linear(512, n_actions)\n",
    "        )\n",
    "        # 值网络定义\n",
    "        self.value = nn.Sequential(\n",
    "            nn.Linear(conv_out_size, 512),\n",
    "            nn.ReLU(),\n",
    "            nn.Linear(512, 1)\n",
    "        )\n",
    "\n",
    "    def _get_conv_out(self, shape):\n",
    "        o = self.conv(torch.zeros(1, *shape))\n",
    "        return int(np.prod(o.size()))\n",
    "\n",
    "    def forward(self, x):\n",
    "        x = x.reshape(x.shape[0], 1, x.shape[1])\n",
    "        fx = x.float() / 256\n",
    "        conv_out = self.conv(fx).view(fx.size()[0], -1)\n",
    "        return self.policy(conv_out), self.value(conv_out)\n",
    "    \n",
    "# 单元测试用例\n",
    "class TA2cConv1dModel(unittest.TestCase):\n",
    "    def test_exp(self):\n",
    "        obs_n = 42 # obs = np.zeros(1, 42)\n",
    "        action_n = 3\n",
    "        net = A2cConv1dModel((1, obs_n), action_n)\n",
    "        # prepare input\n",
    "        mu = 0.0\n",
    "        std = 1.0\n",
    "        x_raw = np.random.normal(mu, std, obs_n)\n",
    "        x = torch.from_numpy(x_raw.reshape((1, 42))).float()\n",
    "        print('x: {0};'.format(x.shape))\n",
    "        actions, v_pi = net(x)\n",
    "        print('actions: {0}; {1};'.format(actions.shape, actions))\n",
    "        print('v_pi: {0};'.format(v_pi))"
   ]
  },
  {
   "cell_type": "markdown",
   "id": "rising-trunk",
   "metadata": {},
   "source": [
    "网络拓朴结构图如下所示：\n",
    "![网络拓朴结构图](./images/chp_02_04_001.png)"
   ]
  },
  {
   "cell_type": "code",
   "execution_count": null,
   "id": "plastic-exclusion",
   "metadata": {},
   "outputs": [],
   "source": []
  }
 ],
 "metadata": {
  "kernelspec": {
   "display_name": "Python 3",
   "language": "python",
   "name": "python3"
  },
  "language_info": {
   "codemirror_mode": {
    "name": "ipython",
    "version": 3
   },
   "file_extension": ".py",
   "mimetype": "text/x-python",
   "name": "python",
   "nbconvert_exporter": "python",
   "pygments_lexer": "ipython3",
   "version": "3.8.5"
  }
 },
 "nbformat": 4,
 "nbformat_minor": 5
}
