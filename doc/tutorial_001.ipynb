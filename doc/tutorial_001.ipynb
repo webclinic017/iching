{
 "cells": [
  {
   "cell_type": "markdown",
   "id": "prepared-background",
   "metadata": {},
   "source": [
    "# 示例\n",
    "我们首先创建开发环境：\n",
    "```bash\n",
    "pip install -i https://pypi.tuna.tsinghua.edu.cn/simple pytorch-ignite\n",
    "pip install opencv-python\n",
    "pip install gym[atari]\n",
    "```\n",
    "在Windows10下面，我们还需要额外的步聚，到https://drive.google.com/file/d/1WQrEBliYbASwNDyyVIlPFSZHRwAa7sPp/view?usp=sharing 下载ale_c.dll文件，并将其放到python目录下C:\\software\\anaconda\\envs\\iching\\Lib\\site-packages\\atari_py\\ale_interface。\n",
    "由于我们不能使用TensorFlow，所以无法使用其可视化工具TensorBoard，所以我们需要用Matplotlib的动画来实现类似的功能。\n"
   ]
  }
 ],
 "metadata": {
  "kernelspec": {
   "display_name": "Python 3",
   "language": "python",
   "name": "python3"
  },
  "language_info": {
   "codemirror_mode": {
    "name": "ipython",
    "version": 3
   },
   "file_extension": ".py",
   "mimetype": "text/x-python",
   "name": "python",
   "nbconvert_exporter": "python",
   "pygments_lexer": "ipython3",
   "version": "3.8.5"
  }
 },
 "nbformat": 4,
 "nbformat_minor": 5
}
